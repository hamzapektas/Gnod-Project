{
 "cells": [
  {
   "cell_type": "code",
   "execution_count": 1,
   "id": "8b98b878",
   "metadata": {},
   "outputs": [],
   "source": [
    "import spotipy\n",
    "from spotipy.oauth2 import SpotifyClientCredentials"
   ]
  },
  {
   "cell_type": "code",
   "execution_count": 2,
   "id": "4500dc47",
   "metadata": {},
   "outputs": [],
   "source": [
    "secrets_file = open(\"spotipy.txt\",\"r\")"
   ]
  },
  {
   "cell_type": "code",
   "execution_count": 3,
   "id": "bb00c12b",
   "metadata": {},
   "outputs": [],
   "source": [
    "string = secrets_file.read()"
   ]
  },
  {
   "cell_type": "code",
   "execution_count": 4,
   "id": "8092c948",
   "metadata": {},
   "outputs": [],
   "source": [
    "s = string.split('\\n')"
   ]
  },
  {
   "cell_type": "code",
   "execution_count": 5,
   "id": "f83456af",
   "metadata": {},
   "outputs": [],
   "source": [
    "import spotipy\n",
    "from spotipy.oauth2 import SpotifyClientCredentials\n",
    "\n",
    "sp = spotipy.Spotify(auth_manager=SpotifyClientCredentials(client_id=s[0],\n",
    "                                                           client_secret=s[1]))"
   ]
  },
  {
   "cell_type": "code",
   "execution_count": 6,
   "id": "237844bf",
   "metadata": {},
   "outputs": [],
   "source": [
    "playlist = sp.user_playlist_tracks(\"spotify\", \"4rnleEAOdmFAbRcNCgZMpY\")"
   ]
  },
  {
   "cell_type": "code",
   "execution_count": 7,
   "id": "8bd72d29",
   "metadata": {},
   "outputs": [
    {
     "data": {
      "text/plain": [
       "dict_keys(['href', 'items', 'limit', 'next', 'offset', 'previous', 'total'])"
      ]
     },
     "execution_count": 7,
     "metadata": {},
     "output_type": "execute_result"
    }
   ],
   "source": [
    "playlist.keys()"
   ]
  },
  {
   "cell_type": "code",
   "execution_count": 9,
   "id": "4d008d98",
   "metadata": {},
   "outputs": [
    {
     "data": {
      "text/plain": [
       "5295"
      ]
     },
     "execution_count": 9,
     "metadata": {},
     "output_type": "execute_result"
    }
   ],
   "source": [
    "playlist['total']"
   ]
  },
  {
   "cell_type": "code",
   "execution_count": 8,
   "id": "1bfbc6b9",
   "metadata": {},
   "outputs": [],
   "source": [
    "from random import randint\n",
    "from time import sleep\n",
    "\n",
    "def get_playlist_tracks(playlist_id):\n",
    "    results = sp.user_playlist_tracks(\"spotify\",playlist_id)\n",
    "    tracks = results['items']\n",
    "    while results['next']!=None:\n",
    "        results = sp.next(results)\n",
    "        tracks = tracks + results['items']\n",
    "        sleep(randint(1,3))\n",
    "    return tracks"
   ]
  },
  {
   "cell_type": "code",
   "execution_count": 10,
   "id": "fedb05c4",
   "metadata": {},
   "outputs": [],
   "source": [
    "whole_playlist = get_playlist_tracks(\"4rnleEAOdmFAbRcNCgZMpY\")"
   ]
  },
  {
   "cell_type": "code",
   "execution_count": 11,
   "id": "d62a90f6",
   "metadata": {},
   "outputs": [
    {
     "data": {
      "text/plain": [
       "5295"
      ]
     },
     "execution_count": 11,
     "metadata": {},
     "output_type": "execute_result"
    }
   ],
   "source": [
    "len(whole_playlist)"
   ]
  },
  {
   "cell_type": "code",
   "execution_count": 12,
   "id": "a1c46705",
   "metadata": {},
   "outputs": [
    {
     "data": {
      "text/plain": [
       "'Mike Posner'"
      ]
     },
     "execution_count": 12,
     "metadata": {},
     "output_type": "execute_result"
    }
   ],
   "source": [
    "whole_playlist[1]['track']['artists'][0]['name']"
   ]
  },
  {
   "cell_type": "code",
   "execution_count": 13,
   "id": "37f7aace",
   "metadata": {},
   "outputs": [],
   "source": [
    "def track_artists(spotify_tracks):\n",
    "    artist = [whole_playlist[i]['track']['artists'][0]['name'] for i in range(len(spotify_tracks))]\n",
    "    return artist"
   ]
  },
  {
   "cell_type": "code",
   "execution_count": 14,
   "id": "8bd9017b",
   "metadata": {},
   "outputs": [],
   "source": [
    "songs_artist = track_artists(whole_playlist)"
   ]
  },
  {
   "cell_type": "code",
   "execution_count": 16,
   "id": "367dc6f7",
   "metadata": {},
   "outputs": [],
   "source": [
    "import pandas as pd"
   ]
  },
  {
   "cell_type": "code",
   "execution_count": 21,
   "id": "61747f62",
   "metadata": {},
   "outputs": [
    {
     "data": {
      "text/plain": [
       "(5295, 1)"
      ]
     },
     "execution_count": 21,
     "metadata": {},
     "output_type": "execute_result"
    }
   ],
   "source": [
    "df_artist = pd.DataFrame(songs_artist, columns=['artist'])\n",
    "df_artist.shape"
   ]
  },
  {
   "cell_type": "code",
   "execution_count": 18,
   "id": "4ba81e4f",
   "metadata": {},
   "outputs": [],
   "source": [
    "def track_name(spotify_tracks):\n",
    "    name = [whole_playlist[i]['track']['name'] for i in range(len(spotify_tracks))]\n",
    "    return name"
   ]
  },
  {
   "cell_type": "code",
   "execution_count": 19,
   "id": "396ad77f",
   "metadata": {},
   "outputs": [],
   "source": [
    "songs_name = track_name(whole_playlist)"
   ]
  },
  {
   "cell_type": "code",
   "execution_count": 22,
   "id": "7a29ab17",
   "metadata": {},
   "outputs": [
    {
     "data": {
      "text/plain": [
       "(5295, 1)"
      ]
     },
     "execution_count": 22,
     "metadata": {},
     "output_type": "execute_result"
    }
   ],
   "source": [
    "df_name = pd.DataFrame(songs_name, columns = ['name'])\n",
    "df_name.shape"
   ]
  },
  {
   "cell_type": "code",
   "execution_count": 24,
   "id": "4d98f268",
   "metadata": {},
   "outputs": [],
   "source": [
    "def track_uris(spotify_tracks):\n",
    "    uris = [whole_playlist[i]['track']['uri'] for i in range(len(spotify_tracks))]\n",
    "    return uris\n",
    "song_uris = track_uris(whole_playlist)"
   ]
  },
  {
   "cell_type": "code",
   "execution_count": 26,
   "id": "5168b700",
   "metadata": {},
   "outputs": [
    {
     "data": {
      "text/plain": [
       "(5295, 1)"
      ]
     },
     "execution_count": 26,
     "metadata": {},
     "output_type": "execute_result"
    }
   ],
   "source": [
    "df_uri = pd.DataFrame(song_uris, columns = ['uri'])\n",
    "df_uri.shape"
   ]
  },
  {
   "cell_type": "code",
   "execution_count": 27,
   "id": "7e685b65",
   "metadata": {},
   "outputs": [],
   "source": [
    "features = [sp.audio_features(i) for i in (song_uris)]"
   ]
  },
  {
   "cell_type": "code",
   "execution_count": 28,
   "id": "3f1a3d55",
   "metadata": {},
   "outputs": [],
   "source": [
    "def flatten(input_list):\n",
    "    return [item for sublist in input_list for item in sublist]"
   ]
  },
  {
   "cell_type": "code",
   "execution_count": 29,
   "id": "2526c0ab",
   "metadata": {},
   "outputs": [
    {
     "data": {
      "text/plain": [
       "{'danceability': 0.566,\n",
       " 'energy': 0.664,\n",
       " 'key': 4,\n",
       " 'loudness': -5.303,\n",
       " 'mode': 0,\n",
       " 'speechiness': 0.0464,\n",
       " 'acousticness': 0.634,\n",
       " 'instrumentalness': 0,\n",
       " 'liveness': 0.116,\n",
       " 'valence': 0.437,\n",
       " 'tempo': 128.945,\n",
       " 'type': 'audio_features',\n",
       " 'id': '7dS5EaCoMnN7DzlpT6aRn2',\n",
       " 'uri': 'spotify:track:7dS5EaCoMnN7DzlpT6aRn2',\n",
       " 'track_href': 'https://api.spotify.com/v1/tracks/7dS5EaCoMnN7DzlpT6aRn2',\n",
       " 'analysis_url': 'https://api.spotify.com/v1/audio-analysis/7dS5EaCoMnN7DzlpT6aRn2',\n",
       " 'duration_ms': 241688,\n",
       " 'time_signature': 4}"
      ]
     },
     "execution_count": 29,
     "metadata": {},
     "output_type": "execute_result"
    }
   ],
   "source": [
    "features1 = flatten(features)\n",
    "features1[0]"
   ]
  },
  {
   "cell_type": "code",
   "execution_count": 30,
   "id": "4069fb66",
   "metadata": {},
   "outputs": [],
   "source": [
    "danceability = [features1[i]['danceability'] for i in range(len(features1))]\n",
    "energy = [features1[i]['energy'] for i in range(len(features1))]\n",
    "key = [features1[i]['key'] for i in range(len(features1))]\n",
    "loudness = [features1[i]['loudness'] for i in range(len(features1))]\n",
    "mode = [features1[i]['mode'] for i in range(len(features1))]\n",
    "speechiness = [features1[i]['speechiness'] for i in range(len(features1))]\n",
    "acousticness = [features1[i]['acousticness'] for i in range(len(features1))]\n",
    "instrumentalness = [features1[i]['instrumentalness'] for i in range(len(features1))]\n",
    "liveness = [features1[i]['liveness'] for i in range(len(features1))]\n",
    "valence = [features1[i]['valence'] for i in range(len(features1))]\n",
    "tempo = [features1[i]['tempo'] for i in range(len(features1))]"
   ]
  },
  {
   "cell_type": "code",
   "execution_count": 31,
   "id": "c16288e3",
   "metadata": {},
   "outputs": [
    {
     "data": {
      "text/html": [
       "<div>\n",
       "<style scoped>\n",
       "    .dataframe tbody tr th:only-of-type {\n",
       "        vertical-align: middle;\n",
       "    }\n",
       "\n",
       "    .dataframe tbody tr th {\n",
       "        vertical-align: top;\n",
       "    }\n",
       "\n",
       "    .dataframe thead th {\n",
       "        text-align: right;\n",
       "    }\n",
       "</style>\n",
       "<table border=\"1\" class=\"dataframe\">\n",
       "  <thead>\n",
       "    <tr style=\"text-align: right;\">\n",
       "      <th></th>\n",
       "      <th>danceability</th>\n",
       "      <th>energy</th>\n",
       "      <th>key</th>\n",
       "      <th>loudness</th>\n",
       "      <th>mode</th>\n",
       "      <th>speechiness</th>\n",
       "      <th>acousticness</th>\n",
       "      <th>instrumentalness</th>\n",
       "      <th>liveness</th>\n",
       "      <th>valence</th>\n",
       "      <th>tempo</th>\n",
       "    </tr>\n",
       "  </thead>\n",
       "  <tbody>\n",
       "    <tr>\n",
       "      <th>0</th>\n",
       "      <td>0.566</td>\n",
       "      <td>0.664</td>\n",
       "      <td>4</td>\n",
       "      <td>-5.303</td>\n",
       "      <td>0</td>\n",
       "      <td>0.0464</td>\n",
       "      <td>0.63400</td>\n",
       "      <td>0.000000</td>\n",
       "      <td>0.116</td>\n",
       "      <td>0.437</td>\n",
       "      <td>128.945</td>\n",
       "    </tr>\n",
       "    <tr>\n",
       "      <th>1</th>\n",
       "      <td>0.768</td>\n",
       "      <td>0.820</td>\n",
       "      <td>7</td>\n",
       "      <td>-4.630</td>\n",
       "      <td>0</td>\n",
       "      <td>0.0474</td>\n",
       "      <td>0.17900</td>\n",
       "      <td>0.000000</td>\n",
       "      <td>0.689</td>\n",
       "      <td>0.625</td>\n",
       "      <td>129.965</td>\n",
       "    </tr>\n",
       "    <tr>\n",
       "      <th>2</th>\n",
       "      <td>0.558</td>\n",
       "      <td>0.559</td>\n",
       "      <td>6</td>\n",
       "      <td>-9.222</td>\n",
       "      <td>1</td>\n",
       "      <td>0.0959</td>\n",
       "      <td>0.37100</td>\n",
       "      <td>0.000007</td>\n",
       "      <td>0.109</td>\n",
       "      <td>0.620</td>\n",
       "      <td>78.558</td>\n",
       "    </tr>\n",
       "    <tr>\n",
       "      <th>3</th>\n",
       "      <td>0.679</td>\n",
       "      <td>0.715</td>\n",
       "      <td>9</td>\n",
       "      <td>-6.383</td>\n",
       "      <td>1</td>\n",
       "      <td>0.0407</td>\n",
       "      <td>0.07550</td>\n",
       "      <td>0.000000</td>\n",
       "      <td>0.271</td>\n",
       "      <td>0.571</td>\n",
       "      <td>127.435</td>\n",
       "    </tr>\n",
       "    <tr>\n",
       "      <th>4</th>\n",
       "      <td>0.778</td>\n",
       "      <td>0.824</td>\n",
       "      <td>10</td>\n",
       "      <td>-5.892</td>\n",
       "      <td>0</td>\n",
       "      <td>0.0707</td>\n",
       "      <td>0.28400</td>\n",
       "      <td>0.000000</td>\n",
       "      <td>0.405</td>\n",
       "      <td>0.758</td>\n",
       "      <td>100.024</td>\n",
       "    </tr>\n",
       "    <tr>\n",
       "      <th>...</th>\n",
       "      <td>...</td>\n",
       "      <td>...</td>\n",
       "      <td>...</td>\n",
       "      <td>...</td>\n",
       "      <td>...</td>\n",
       "      <td>...</td>\n",
       "      <td>...</td>\n",
       "      <td>...</td>\n",
       "      <td>...</td>\n",
       "      <td>...</td>\n",
       "      <td>...</td>\n",
       "    </tr>\n",
       "    <tr>\n",
       "      <th>5290</th>\n",
       "      <td>0.609</td>\n",
       "      <td>0.679</td>\n",
       "      <td>0</td>\n",
       "      <td>-4.545</td>\n",
       "      <td>1</td>\n",
       "      <td>0.0312</td>\n",
       "      <td>0.24300</td>\n",
       "      <td>0.000000</td>\n",
       "      <td>0.199</td>\n",
       "      <td>0.487</td>\n",
       "      <td>122.034</td>\n",
       "    </tr>\n",
       "    <tr>\n",
       "      <th>5291</th>\n",
       "      <td>0.439</td>\n",
       "      <td>0.610</td>\n",
       "      <td>9</td>\n",
       "      <td>-7.236</td>\n",
       "      <td>1</td>\n",
       "      <td>0.1160</td>\n",
       "      <td>0.59300</td>\n",
       "      <td>0.000011</td>\n",
       "      <td>0.341</td>\n",
       "      <td>0.172</td>\n",
       "      <td>181.088</td>\n",
       "    </tr>\n",
       "    <tr>\n",
       "      <th>5292</th>\n",
       "      <td>0.897</td>\n",
       "      <td>0.371</td>\n",
       "      <td>1</td>\n",
       "      <td>-5.019</td>\n",
       "      <td>1</td>\n",
       "      <td>0.3680</td>\n",
       "      <td>0.09040</td>\n",
       "      <td>0.000000</td>\n",
       "      <td>0.325</td>\n",
       "      <td>0.441</td>\n",
       "      <td>81.008</td>\n",
       "    </tr>\n",
       "    <tr>\n",
       "      <th>5293</th>\n",
       "      <td>0.964</td>\n",
       "      <td>0.398</td>\n",
       "      <td>11</td>\n",
       "      <td>-8.981</td>\n",
       "      <td>0</td>\n",
       "      <td>0.0795</td>\n",
       "      <td>0.00151</td>\n",
       "      <td>0.000039</td>\n",
       "      <td>0.101</td>\n",
       "      <td>0.563</td>\n",
       "      <td>105.012</td>\n",
       "    </tr>\n",
       "    <tr>\n",
       "      <th>5294</th>\n",
       "      <td>0.653</td>\n",
       "      <td>0.524</td>\n",
       "      <td>11</td>\n",
       "      <td>-9.016</td>\n",
       "      <td>0</td>\n",
       "      <td>0.0502</td>\n",
       "      <td>0.11200</td>\n",
       "      <td>0.000000</td>\n",
       "      <td>0.203</td>\n",
       "      <td>0.553</td>\n",
       "      <td>83.970</td>\n",
       "    </tr>\n",
       "  </tbody>\n",
       "</table>\n",
       "<p>5295 rows × 11 columns</p>\n",
       "</div>"
      ],
      "text/plain": [
       "      danceability  energy  key  loudness  mode  speechiness  acousticness  \\\n",
       "0            0.566   0.664    4    -5.303     0       0.0464       0.63400   \n",
       "1            0.768   0.820    7    -4.630     0       0.0474       0.17900   \n",
       "2            0.558   0.559    6    -9.222     1       0.0959       0.37100   \n",
       "3            0.679   0.715    9    -6.383     1       0.0407       0.07550   \n",
       "4            0.778   0.824   10    -5.892     0       0.0707       0.28400   \n",
       "...            ...     ...  ...       ...   ...          ...           ...   \n",
       "5290         0.609   0.679    0    -4.545     1       0.0312       0.24300   \n",
       "5291         0.439   0.610    9    -7.236     1       0.1160       0.59300   \n",
       "5292         0.897   0.371    1    -5.019     1       0.3680       0.09040   \n",
       "5293         0.964   0.398   11    -8.981     0       0.0795       0.00151   \n",
       "5294         0.653   0.524   11    -9.016     0       0.0502       0.11200   \n",
       "\n",
       "      instrumentalness  liveness  valence    tempo  \n",
       "0             0.000000     0.116    0.437  128.945  \n",
       "1             0.000000     0.689    0.625  129.965  \n",
       "2             0.000007     0.109    0.620   78.558  \n",
       "3             0.000000     0.271    0.571  127.435  \n",
       "4             0.000000     0.405    0.758  100.024  \n",
       "...                ...       ...      ...      ...  \n",
       "5290          0.000000     0.199    0.487  122.034  \n",
       "5291          0.000011     0.341    0.172  181.088  \n",
       "5292          0.000000     0.325    0.441   81.008  \n",
       "5293          0.000039     0.101    0.563  105.012  \n",
       "5294          0.000000     0.203    0.553   83.970  \n",
       "\n",
       "[5295 rows x 11 columns]"
      ]
     },
     "execution_count": 31,
     "metadata": {},
     "output_type": "execute_result"
    }
   ],
   "source": [
    "df_features = pd.DataFrame.from_dict({'danceability':danceability, 'energy':energy, 'key':key, 'loudness':loudness, 'mode':mode, 'speechiness':speechiness, 'acousticness':acousticness, 'instrumentalness':instrumentalness, 'liveness':liveness, 'valence':valence, 'tempo':tempo})\n",
    "df_features"
   ]
  },
  {
   "cell_type": "code",
   "execution_count": 32,
   "id": "6a1f95d7",
   "metadata": {},
   "outputs": [],
   "source": [
    "df_final = pd.concat([df_artist, df_name, df_uri, df_features], axis=1)"
   ]
  },
  {
   "cell_type": "code",
   "execution_count": 34,
   "id": "21e33bcd",
   "metadata": {},
   "outputs": [
    {
     "data": {
      "text/plain": [
       "(5295, 14)"
      ]
     },
     "execution_count": 34,
     "metadata": {},
     "output_type": "execute_result"
    }
   ],
   "source": [
    "df_final.shape"
   ]
  },
  {
   "cell_type": "code",
   "execution_count": 35,
   "id": "1fbfbb14",
   "metadata": {},
   "outputs": [],
   "source": [
    "import numpy as np\n",
    "import matplotlib.pyplot as plt\n",
    "\n",
    "from sklearn import cluster, datasets\n",
    "from sklearn.preprocessing import StandardScaler\n",
    "from matplotlib.lines import Line2D"
   ]
  },
  {
   "cell_type": "code",
   "execution_count": 36,
   "id": "f8a6feea",
   "metadata": {},
   "outputs": [],
   "source": [
    "cluster_data = df_final.drop(['artist','name','uri'], axis=1)"
   ]
  },
  {
   "cell_type": "code",
   "execution_count": 37,
   "id": "f0f5dfb6",
   "metadata": {},
   "outputs": [],
   "source": [
    "scaler= StandardScaler().fit(cluster_data)\n",
    "X_scaled = scaler.transform(cluster_data)"
   ]
  },
  {
   "cell_type": "code",
   "execution_count": 38,
   "id": "48dc1e0a",
   "metadata": {},
   "outputs": [
    {
     "data": {
      "text/plain": [
       "KMeans(n_clusters=3, random_state=1234)"
      ]
     },
     "execution_count": 38,
     "metadata": {},
     "output_type": "execute_result"
    }
   ],
   "source": [
    "from sklearn.cluster import KMeans\n",
    "\n",
    "kmeans = KMeans(n_clusters=3, random_state=1234)\n",
    "kmeans.fit(X_scaled)"
   ]
  },
  {
   "cell_type": "code",
   "execution_count": 39,
   "id": "034414d9",
   "metadata": {},
   "outputs": [
    {
     "data": {
      "text/plain": [
       "0    1473\n",
       "1     157\n",
       "2    3665\n",
       "dtype: int64"
      ]
     },
     "execution_count": 39,
     "metadata": {},
     "output_type": "execute_result"
    }
   ],
   "source": [
    "clusters = kmeans.predict(X_scaled)\n",
    "pd.Series(clusters).value_counts().sort_index()"
   ]
  },
  {
   "cell_type": "code",
   "execution_count": 41,
   "id": "28e31185",
   "metadata": {},
   "outputs": [
    {
     "data": {
      "text/plain": [
       "Text(0.5, 1.0, 'Elbow Method showing the optimal k')"
      ]
     },
     "execution_count": 41,
     "metadata": {},
     "output_type": "execute_result"
    },
    {
     "data": {
      "image/png": "[encoded data removed]",
      "text/plain": [
       "<Figure size 1152x576 with 1 Axes>"
      ]
     },
     "metadata": {
      "needs_background": "light"
     },
     "output_type": "display_data"
    }
   ],
   "source": [
    "import numpy as np\n",
    "K = range(2, 20)\n",
    "inertia = []\n",
    "\n",
    "for k in K:\n",
    "    kmeans = KMeans(n_clusters=k,\n",
    "                    random_state=1234)\n",
    "    kmeans.fit(X_scaled)\n",
    "    inertia.append(kmeans.inertia_)\n",
    "\n",
    "import matplotlib.pyplot as plt\n",
    "%matplotlib inline\n",
    "\n",
    "plt.figure(figsize=(16,8))\n",
    "plt.plot(K, inertia, 'bx-')\n",
    "plt.xlabel('k')\n",
    "plt.ylabel('inertia')\n",
    "plt.xticks(np.arange(min(K), max(K)+1, 1.0))\n",
    "plt.title('Elbow Method showing the optimal k')"
   ]
  },
  {
   "cell_type": "code",
   "execution_count": 42,
   "id": "ee1151d8",
   "metadata": {},
   "outputs": [
    {
     "data": {
      "text/plain": [
       "0     646\n",
       "1    1786\n",
       "2     667\n",
       "3    2046\n",
       "4     150\n",
       "dtype: int64"
      ]
     },
     "execution_count": 42,
     "metadata": {},
     "output_type": "execute_result"
    }
   ],
   "source": [
    "kmeans = KMeans(n_clusters=5, random_state=1234)\n",
    "kmeans.fit(X_scaled)\n",
    "clusters = kmeans.predict(X_scaled)\n",
    "pd.Series(clusters).value_counts().sort_index()"
   ]
  },
  {
   "cell_type": "code",
   "execution_count": 44,
   "id": "90e6f32b",
   "metadata": {},
   "outputs": [
    {
     "data": {
      "text/plain": [
       "(5295,)"
      ]
     },
     "execution_count": 44,
     "metadata": {},
     "output_type": "execute_result"
    }
   ],
   "source": [
    "clusters.shape"
   ]
  },
  {
   "cell_type": "code",
   "execution_count": 45,
   "id": "b0c10a34",
   "metadata": {},
   "outputs": [
    {
     "data": {
      "text/plain": [
       "39212.12453358288"
      ]
     },
     "execution_count": 45,
     "metadata": {},
     "output_type": "execute_result"
    }
   ],
   "source": [
    "kmeans.inertia_ "
   ]
  },
  {
   "cell_type": "code",
   "execution_count": 46,
   "id": "3c34a72a",
   "metadata": {},
   "outputs": [
    {
     "name": "stdout",
     "output_type": "stream",
     "text": [
      "42181.02496034106\n"
     ]
    }
   ],
   "source": [
    "kmeans = KMeans(n_clusters=4,\n",
    "                init=\"random\",\n",
    "                n_init=30,  \n",
    "                max_iter=10,\n",
    "                tol=0,\n",
    "                random_state=1234)\n",
    "kmeans.fit(X_scaled)\n",
    "print(kmeans.inertia_)"
   ]
  },
  {
   "cell_type": "code",
   "execution_count": 47,
   "id": "8aafe16e",
   "metadata": {},
   "outputs": [
    {
     "data": {
      "image/png": "[encoded data removed]",
      "text/plain": [
       "<Figure size 360x360 with 1 Axes>"
      ]
     },
     "metadata": {
      "needs_background": "light"
     },
     "output_type": "display_data"
    }
   ],
   "source": [
    "agglomerative = cluster.AgglomerativeClustering(n_clusters=3,linkage='complete')\n",
    "pred = agglomerative.fit_predict(X_scaled)\n",
    "\n",
    "plt.figure(figsize=(5, 5))\n",
    "plt.scatter(X_scaled[:, 0], X_scaled[:, 1], c=pred,alpha=0.5)\n",
    "plt.show()"
   ]
  },
  {
   "cell_type": "code",
   "execution_count": 48,
   "id": "d1c80b91",
   "metadata": {},
   "outputs": [],
   "source": [
    "df_final['cluster'] = clusters"
   ]
  },
  {
   "cell_type": "code",
   "execution_count": 49,
   "id": "af987af0",
   "metadata": {},
   "outputs": [
    {
     "data": {
      "text/html": [
       "<div>\n",
       "<style scoped>\n",
       "    .dataframe tbody tr th:only-of-type {\n",
       "        vertical-align: middle;\n",
       "    }\n",
       "\n",
       "    .dataframe tbody tr th {\n",
       "        vertical-align: top;\n",
       "    }\n",
       "\n",
       "    .dataframe thead th {\n",
       "        text-align: right;\n",
       "    }\n",
       "</style>\n",
       "<table border=\"1\" class=\"dataframe\">\n",
       "  <thead>\n",
       "    <tr style=\"text-align: right;\">\n",
       "      <th></th>\n",
       "      <th>artist</th>\n",
       "      <th>name</th>\n",
       "      <th>uri</th>\n",
       "      <th>danceability</th>\n",
       "      <th>energy</th>\n",
       "      <th>key</th>\n",
       "      <th>loudness</th>\n",
       "      <th>mode</th>\n",
       "      <th>speechiness</th>\n",
       "      <th>acousticness</th>\n",
       "      <th>instrumentalness</th>\n",
       "      <th>liveness</th>\n",
       "      <th>valence</th>\n",
       "      <th>tempo</th>\n",
       "      <th>cluster</th>\n",
       "    </tr>\n",
       "  </thead>\n",
       "  <tbody>\n",
       "    <tr>\n",
       "      <th>0</th>\n",
       "      <td>Hozier</td>\n",
       "      <td>Take Me To Church</td>\n",
       "      <td>spotify:track:7dS5EaCoMnN7DzlpT6aRn2</td>\n",
       "      <td>0.566</td>\n",
       "      <td>0.664</td>\n",
       "      <td>4</td>\n",
       "      <td>-5.303</td>\n",
       "      <td>0</td>\n",
       "      <td>0.0464</td>\n",
       "      <td>0.63400</td>\n",
       "      <td>0.000000</td>\n",
       "      <td>0.116</td>\n",
       "      <td>0.437</td>\n",
       "      <td>128.945</td>\n",
       "      <td>0</td>\n",
       "    </tr>\n",
       "    <tr>\n",
       "      <th>1</th>\n",
       "      <td>Mike Posner</td>\n",
       "      <td>Cooler Than Me - Single Mix</td>\n",
       "      <td>spotify:track:2V4bv1fNWfTcyRJKmej6Sj</td>\n",
       "      <td>0.768</td>\n",
       "      <td>0.820</td>\n",
       "      <td>7</td>\n",
       "      <td>-4.630</td>\n",
       "      <td>0</td>\n",
       "      <td>0.0474</td>\n",
       "      <td>0.17900</td>\n",
       "      <td>0.000000</td>\n",
       "      <td>0.689</td>\n",
       "      <td>0.625</td>\n",
       "      <td>129.965</td>\n",
       "      <td>1</td>\n",
       "    </tr>\n",
       "    <tr>\n",
       "      <th>2</th>\n",
       "      <td>Tyler, The Creator</td>\n",
       "      <td>See You Again (feat. Kali Uchis)</td>\n",
       "      <td>spotify:track:7KA4W4McWYRpgf0fWsJZWB</td>\n",
       "      <td>0.558</td>\n",
       "      <td>0.559</td>\n",
       "      <td>6</td>\n",
       "      <td>-9.222</td>\n",
       "      <td>1</td>\n",
       "      <td>0.0959</td>\n",
       "      <td>0.37100</td>\n",
       "      <td>0.000007</td>\n",
       "      <td>0.109</td>\n",
       "      <td>0.620</td>\n",
       "      <td>78.558</td>\n",
       "      <td>0</td>\n",
       "    </tr>\n",
       "    <tr>\n",
       "      <th>3</th>\n",
       "      <td>Bastille</td>\n",
       "      <td>Pompeii</td>\n",
       "      <td>spotify:track:3gbBpTdY8lnQwqxNCcf795</td>\n",
       "      <td>0.679</td>\n",
       "      <td>0.715</td>\n",
       "      <td>9</td>\n",
       "      <td>-6.383</td>\n",
       "      <td>1</td>\n",
       "      <td>0.0407</td>\n",
       "      <td>0.07550</td>\n",
       "      <td>0.000000</td>\n",
       "      <td>0.271</td>\n",
       "      <td>0.571</td>\n",
       "      <td>127.435</td>\n",
       "      <td>3</td>\n",
       "    </tr>\n",
       "    <tr>\n",
       "      <th>4</th>\n",
       "      <td>Shakira</td>\n",
       "      <td>Hips Don't Lie (feat. Wyclef Jean)</td>\n",
       "      <td>spotify:track:3ZFTkvIE7kyPt6Nu3PEa7V</td>\n",
       "      <td>0.778</td>\n",
       "      <td>0.824</td>\n",
       "      <td>10</td>\n",
       "      <td>-5.892</td>\n",
       "      <td>0</td>\n",
       "      <td>0.0707</td>\n",
       "      <td>0.28400</td>\n",
       "      <td>0.000000</td>\n",
       "      <td>0.405</td>\n",
       "      <td>0.758</td>\n",
       "      <td>100.024</td>\n",
       "      <td>1</td>\n",
       "    </tr>\n",
       "    <tr>\n",
       "      <th>...</th>\n",
       "      <td>...</td>\n",
       "      <td>...</td>\n",
       "      <td>...</td>\n",
       "      <td>...</td>\n",
       "      <td>...</td>\n",
       "      <td>...</td>\n",
       "      <td>...</td>\n",
       "      <td>...</td>\n",
       "      <td>...</td>\n",
       "      <td>...</td>\n",
       "      <td>...</td>\n",
       "      <td>...</td>\n",
       "      <td>...</td>\n",
       "      <td>...</td>\n",
       "      <td>...</td>\n",
       "    </tr>\n",
       "    <tr>\n",
       "      <th>5290</th>\n",
       "      <td>MARINA</td>\n",
       "      <td>Hermit the Frog</td>\n",
       "      <td>spotify:track:4Zcz6saEkOII3PlXd9gN3o</td>\n",
       "      <td>0.609</td>\n",
       "      <td>0.679</td>\n",
       "      <td>0</td>\n",
       "      <td>-4.545</td>\n",
       "      <td>1</td>\n",
       "      <td>0.0312</td>\n",
       "      <td>0.24300</td>\n",
       "      <td>0.000000</td>\n",
       "      <td>0.199</td>\n",
       "      <td>0.487</td>\n",
       "      <td>122.034</td>\n",
       "      <td>3</td>\n",
       "    </tr>\n",
       "    <tr>\n",
       "      <th>5291</th>\n",
       "      <td>Olivia Rodrigo</td>\n",
       "      <td>deja vu</td>\n",
       "      <td>spotify:track:61KpQadow081I2AsbeLcsb</td>\n",
       "      <td>0.439</td>\n",
       "      <td>0.610</td>\n",
       "      <td>9</td>\n",
       "      <td>-7.236</td>\n",
       "      <td>1</td>\n",
       "      <td>0.1160</td>\n",
       "      <td>0.59300</td>\n",
       "      <td>0.000011</td>\n",
       "      <td>0.341</td>\n",
       "      <td>0.172</td>\n",
       "      <td>181.088</td>\n",
       "      <td>0</td>\n",
       "    </tr>\n",
       "    <tr>\n",
       "      <th>5292</th>\n",
       "      <td>BIA</td>\n",
       "      <td>WHOLE LOTTA MONEY</td>\n",
       "      <td>spotify:track:5yorXJWdBan1Vlh116ZtQ7</td>\n",
       "      <td>0.897</td>\n",
       "      <td>0.371</td>\n",
       "      <td>1</td>\n",
       "      <td>-5.019</td>\n",
       "      <td>1</td>\n",
       "      <td>0.3680</td>\n",
       "      <td>0.09040</td>\n",
       "      <td>0.000000</td>\n",
       "      <td>0.325</td>\n",
       "      <td>0.441</td>\n",
       "      <td>81.008</td>\n",
       "      <td>2</td>\n",
       "    </tr>\n",
       "    <tr>\n",
       "      <th>5293</th>\n",
       "      <td>Ashnikko</td>\n",
       "      <td>Slumber Party (feat. Princess Nokia)</td>\n",
       "      <td>spotify:track:11ZulcYY4lowvcQm4oe3VJ</td>\n",
       "      <td>0.964</td>\n",
       "      <td>0.398</td>\n",
       "      <td>11</td>\n",
       "      <td>-8.981</td>\n",
       "      <td>0</td>\n",
       "      <td>0.0795</td>\n",
       "      <td>0.00151</td>\n",
       "      <td>0.000039</td>\n",
       "      <td>0.101</td>\n",
       "      <td>0.563</td>\n",
       "      <td>105.012</td>\n",
       "      <td>1</td>\n",
       "    </tr>\n",
       "    <tr>\n",
       "      <th>5294</th>\n",
       "      <td>Kali Uchis</td>\n",
       "      <td>telepatía</td>\n",
       "      <td>spotify:track:6tDDoYIxWvMLTdKpjFkc1B</td>\n",
       "      <td>0.653</td>\n",
       "      <td>0.524</td>\n",
       "      <td>11</td>\n",
       "      <td>-9.016</td>\n",
       "      <td>0</td>\n",
       "      <td>0.0502</td>\n",
       "      <td>0.11200</td>\n",
       "      <td>0.000000</td>\n",
       "      <td>0.203</td>\n",
       "      <td>0.553</td>\n",
       "      <td>83.970</td>\n",
       "      <td>1</td>\n",
       "    </tr>\n",
       "  </tbody>\n",
       "</table>\n",
       "<p>5295 rows × 15 columns</p>\n",
       "</div>"
      ],
      "text/plain": [
       "                  artist                                  name  \\\n",
       "0                 Hozier                     Take Me To Church   \n",
       "1            Mike Posner           Cooler Than Me - Single Mix   \n",
       "2     Tyler, The Creator      See You Again (feat. Kali Uchis)   \n",
       "3               Bastille                               Pompeii   \n",
       "4                Shakira    Hips Don't Lie (feat. Wyclef Jean)   \n",
       "...                  ...                                   ...   \n",
       "5290              MARINA                       Hermit the Frog   \n",
       "5291      Olivia Rodrigo                               deja vu   \n",
       "5292                 BIA                     WHOLE LOTTA MONEY   \n",
       "5293            Ashnikko  Slumber Party (feat. Princess Nokia)   \n",
       "5294          Kali Uchis                             telepatía   \n",
       "\n",
       "                                       uri  danceability  energy  key  \\\n",
       "0     spotify:track:7dS5EaCoMnN7DzlpT6aRn2         0.566   0.664    4   \n",
       "1     spotify:track:2V4bv1fNWfTcyRJKmej6Sj         0.768   0.820    7   \n",
       "2     spotify:track:7KA4W4McWYRpgf0fWsJZWB         0.558   0.559    6   \n",
       "3     spotify:track:3gbBpTdY8lnQwqxNCcf795         0.679   0.715    9   \n",
       "4     spotify:track:3ZFTkvIE7kyPt6Nu3PEa7V         0.778   0.824   10   \n",
       "...                                    ...           ...     ...  ...   \n",
       "5290  spotify:track:4Zcz6saEkOII3PlXd9gN3o         0.609   0.679    0   \n",
       "5291  spotify:track:61KpQadow081I2AsbeLcsb         0.439   0.610    9   \n",
       "5292  spotify:track:5yorXJWdBan1Vlh116ZtQ7         0.897   0.371    1   \n",
       "5293  spotify:track:11ZulcYY4lowvcQm4oe3VJ         0.964   0.398   11   \n",
       "5294  spotify:track:6tDDoYIxWvMLTdKpjFkc1B         0.653   0.524   11   \n",
       "\n",
       "      loudness  mode  speechiness  acousticness  instrumentalness  liveness  \\\n",
       "0       -5.303     0       0.0464       0.63400          0.000000     0.116   \n",
       "1       -4.630     0       0.0474       0.17900          0.000000     0.689   \n",
       "2       -9.222     1       0.0959       0.37100          0.000007     0.109   \n",
       "3       -6.383     1       0.0407       0.07550          0.000000     0.271   \n",
       "4       -5.892     0       0.0707       0.28400          0.000000     0.405   \n",
       "...        ...   ...          ...           ...               ...       ...   \n",
       "5290    -4.545     1       0.0312       0.24300          0.000000     0.199   \n",
       "5291    -7.236     1       0.1160       0.59300          0.000011     0.341   \n",
       "5292    -5.019     1       0.3680       0.09040          0.000000     0.325   \n",
       "5293    -8.981     0       0.0795       0.00151          0.000039     0.101   \n",
       "5294    -9.016     0       0.0502       0.11200          0.000000     0.203   \n",
       "\n",
       "      valence    tempo  cluster  \n",
       "0       0.437  128.945        0  \n",
       "1       0.625  129.965        1  \n",
       "2       0.620   78.558        0  \n",
       "3       0.571  127.435        3  \n",
       "4       0.758  100.024        1  \n",
       "...       ...      ...      ...  \n",
       "5290    0.487  122.034        3  \n",
       "5291    0.172  181.088        0  \n",
       "5292    0.441   81.008        2  \n",
       "5293    0.563  105.012        1  \n",
       "5294    0.553   83.970        1  \n",
       "\n",
       "[5295 rows x 15 columns]"
      ]
     },
     "execution_count": 49,
     "metadata": {},
     "output_type": "execute_result"
    }
   ],
   "source": [
    "df_final"
   ]
  },
  {
   "cell_type": "code",
   "execution_count": 52,
   "id": "fa061cfd",
   "metadata": {},
   "outputs": [],
   "source": [
    "topsongs = pd.read_csv(r'C:\\Users\\hp\\OneDrive\\Desktop\\DAFT\\Day26 Lab\\lab-web-scraping-single-page\\topsongs.csv')\n",
    "# topsongs"
   ]
  },
  {
   "cell_type": "code",
   "execution_count": 53,
   "id": "52343cc0",
   "metadata": {},
   "outputs": [],
   "source": [
    "import random"
   ]
  },
  {
   "cell_type": "code",
   "execution_count": 54,
   "id": "db8536e7",
   "metadata": {},
   "outputs": [],
   "source": [
    "def features_api(track, artist):\n",
    "    track_id = sp.search(q='artist:' + artist + ' track:' + track, type='track')\n",
    "    uri = track_id[\"tracks\"][\"items\"][0]['id']\n",
    "    features_api = sp.audio_features(uri)\n",
    "    return features_api"
   ]
  },
  {
   "cell_type": "code",
   "execution_count": 55,
   "id": "ba6be564",
   "metadata": {},
   "outputs": [],
   "source": [
    "def recommend():\n",
    "    new_song = input(\"Enter a song: \").lower()\n",
    "    new_artist = input(\"Enter an artist: \").lower()\n",
    "    try:\n",
    "        \n",
    "        if new_song in np.array(topsongs['song']):\n",
    "            return random.choice(np.array(topsongs['song']))\n",
    "        else:\n",
    "            feature = features_api(new_song, new_artist)\n",
    "            column = list(feature[0].keys())\n",
    "            values = [list(feature[0].values())]\n",
    "            df_new_song = pd.DataFrame(data = feature, columns = column)\n",
    "            df_new_song = df_new_song.drop(['type','id','uri','track_href','analysis_url','duration_ms','time_signature'],axis=1)\n",
    "            std_new_song = scaler.transform(df_new_song)\n",
    "            new_cluster = kmeans.predict(std_new_song)\n",
    "            df_cluster = df_final[df_final['cluster'] == list(new_cluster)[0]]\n",
    "        \n",
    "\n",
    "            print('Your recommendation:',random.choice(list(df_cluster['name'])))\n",
    "    except:\n",
    "         print('Ups! This song is not exist! Please try a new one')"
   ]
  },
  {
   "cell_type": "code",
   "execution_count": 59,
   "id": "5e9baa27",
   "metadata": {},
   "outputs": [
    {
     "name": "stdout",
     "output_type": "stream",
     "text": [
      "Enter a song: git\n",
      "Enter an artist: sezen aksu\n",
      "Your recommendation: Would I Lie to You - Radio Edit\n"
     ]
    }
   ],
   "source": [
    "recommend()"
   ]
  },
  {
   "cell_type": "code",
   "execution_count": 58,
   "id": "5bb852f0",
   "metadata": {},
   "outputs": [],
   "source": [
    "df_final.to_csv(\"playlist.csv\")"
   ]
  },
  {
   "cell_type": "code",
   "execution_count": null,
   "id": "84965326",
   "metadata": {},
   "outputs": [],
   "source": [
    "# import pickle\n",
    "# filename = 'cluster'\n",
    "# pickle.dump(clusters, open(filename, 'wb'))"
   ]
  }
 ],
 "metadata": {
  "kernelspec": {
   "display_name": "Python 3",
   "language": "python",
   "name": "python3"
  },
  "language_info": {
   "codemirror_mode": {
    "name": "ipython",
    "version": 3
   },
   "file_extension": ".py",
   "mimetype": "text/x-python",
   "name": "python",
   "nbconvert_exporter": "python",
   "pygments_lexer": "ipython3",
   "version": "3.8.8"
  }
 },
 "nbformat": 4,
 "nbformat_minor": 5
}
